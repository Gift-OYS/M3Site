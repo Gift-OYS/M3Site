{
 "cells": [
  {
   "cell_type": "code",
   "execution_count": null,
   "id": "7e5dd483",
   "metadata": {},
   "outputs": [
    {
     "name": "stdout",
     "output_type": "stream",
     "text": [
      "env: TOKENIZERS_PARALLELISM=false\n"
     ]
    },
    {
     "name": "stderr",
     "output_type": "stream",
     "text": [
      "  0%|          | 0/33 [00:00<?, ?it/s]"
     ]
    }
   ],
   "source": [
    "%set_env TOKENIZERS_PARALLELISM=false\n",
    "import os\n",
    "from tqdm import tqdm\n",
    "from predict import model_predict\n",
    "\n",
    "model = 'M3Site-ESM3-abs'\n",
    "pdb_file = '/data1/users/ouyangsong/GitHub/M3Site/case_study/A0A1H1XG33.pdb'\n",
    "function = 'Unknown'\n",
    "plm_path = '/data1/users/ouyangsong/codes/MMSite2/model_dir/esm3/esm3-sm-open-v1'\n",
    "blm_path = '/data1/users/ouyangsong/codes/MMSite2/model_dir/BiomedNLP-BiomedBERT-base-uncased-abstract'\n",
    "\n",
    "pdb_dir = '/data1/users/ouyangsong/GitHub/M3Site/case_study'\n",
    "pdb_files = os.listdir(pdb_dir)\n",
    "times = []\n",
    "for file in tqdm(pdb_files):\n",
    "    pdb_file = os.path.join(pdb_dir, file)\n",
    "    result = model_predict(model, pdb_file, function,\n",
    "                            plm_path,\n",
    "                            blm_path, \n",
    "                            device='cpu'\n",
    "                        )\n",
    "    print(result[-1])\n",
    "    times.append(result[-1])"
   ]
  },
  {
   "cell_type": "code",
   "execution_count": 2,
   "id": "8858d1ac",
   "metadata": {},
   "outputs": [
    {
     "data": {
      "text/plain": [
       "[0.10599946975708008]"
      ]
     },
     "execution_count": 2,
     "metadata": {},
     "output_type": "execute_result"
    }
   ],
   "source": [
    "times"
   ]
  },
  {
   "cell_type": "code",
   "execution_count": null,
   "id": "76448f45",
   "metadata": {},
   "outputs": [],
   "source": []
  },
  {
   "cell_type": "code",
   "execution_count": null,
   "id": "d60fc5b3",
   "metadata": {},
   "outputs": [],
   "source": []
  },
  {
   "cell_type": "code",
   "execution_count": null,
   "id": "98619170",
   "metadata": {},
   "outputs": [],
   "source": []
  },
  {
   "cell_type": "code",
   "execution_count": null,
   "metadata": {},
   "outputs": [],
   "source": []
  }
 ],
 "metadata": {
  "kernelspec": {
   "display_name": "m3site",
   "language": "python",
   "name": "python3"
  },
  "language_info": {
   "codemirror_mode": {
    "name": "ipython",
    "version": 3
   },
   "file_extension": ".py",
   "mimetype": "text/x-python",
   "name": "python",
   "nbconvert_exporter": "python",
   "pygments_lexer": "ipython3",
   "version": "3.11.11"
  }
 },
 "nbformat": 4,
 "nbformat_minor": 5
}
