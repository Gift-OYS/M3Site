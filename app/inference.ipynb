{
 "cells": [
  {
   "cell_type": "code",
   "execution_count": null,
   "id": "d60fc5b3",
   "metadata": {},
   "outputs": [],
   "source": [
    "%set_env TOKENIZERS_PARALLELISM=false\n",
    "from predict import model_predict\n",
    "\n",
    "model = 'M3Site-ESM3-abs'   # If you want to use ESM3 as PLM, you may need to have the access\n",
    "pdb_file = '/path/to/your/pdb_file.pdb'\n",
    "function = 'Unknown'\n",
    "\n",
    "\n",
    "# Option 1: Use the pretrained model from Hugging Face\n",
    "result = model_predict(model, pdb_file, function,\n",
    "                        device='cuda:0'\n",
    "                    )\n",
    "\n",
    "# Option 2: Use the pretrained model from local path\n",
    "plm_path = '/path/to/esm3-sm-open-v1'\n",
    "blm_path = '/path/to/BiomedNLP-BiomedBERT-base-uncased-abstract'\n",
    "result = model_predict(model, pdb_file, function,\n",
    "                        plm_path, blm_path, \n",
    "                        device='cuda:0'\n",
    "                    )\n",
    "\n",
    "result"
   ]
  }
 ],
 "metadata": {
  "kernelspec": {
   "display_name": "m3site",
   "language": "python",
   "name": "python3"
  },
  "language_info": {
   "codemirror_mode": {
    "name": "ipython",
    "version": 3
   },
   "file_extension": ".py",
   "mimetype": "text/x-python",
   "name": "python",
   "nbconvert_exporter": "python",
   "pygments_lexer": "ipython3",
   "version": "3.11.11"
  }
 },
 "nbformat": 4,
 "nbformat_minor": 5
}
