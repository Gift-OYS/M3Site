{
 "cells": [
  {
   "cell_type": "code",
   "execution_count": 1,
   "id": "7e5dd483",
   "metadata": {},
   "outputs": [
    {
     "name": "stdout",
     "output_type": "stream",
     "text": [
      "env: TOKENIZERS_PARALLELISM=false\n"
     ]
    },
    {
     "name": "stderr",
     "output_type": "stream",
     "text": [
      "  0%|          | 0/33 [00:00<?, ?it/s]"
     ]
    },
    {
     "name": "stdout",
     "output_type": "stream",
     "text": [
      "1 H-Adding task with 3614 atoms complete in 0.161 seconds.\n"
     ]
    },
    {
     "name": "stderr",
     "output_type": "stream",
     "text": [
      "  3%|▎         | 1/33 [00:42<22:51, 42.86s/it]"
     ]
    },
    {
     "name": "stdout",
     "output_type": "stream",
     "text": [
      "Time: 18.182674646377563\n",
      "0.08561158180236816\n",
      "1 H-Adding task with 3733 atoms complete in 0.189 seconds.\n"
     ]
    },
    {
     "name": "stderr",
     "output_type": "stream",
     "text": [
      "  6%|▌         | 2/33 [01:12<18:12, 35.24s/it]"
     ]
    },
    {
     "name": "stdout",
     "output_type": "stream",
     "text": [
      "Time: 6.100331783294678\n",
      "0.009076356887817383\n",
      "1 H-Adding task with 4447 atoms complete in 0.367 seconds.\n"
     ]
    },
    {
     "name": "stderr",
     "output_type": "stream",
     "text": [
      "  9%|▉         | 3/33 [01:45<17:08, 34.29s/it]"
     ]
    },
    {
     "name": "stdout",
     "output_type": "stream",
     "text": [
      "Time: 6.082368612289429\n",
      "0.004117012023925781\n",
      "1 H-Adding task with 5274 atoms complete in 0.347 seconds.\n"
     ]
    },
    {
     "name": "stderr",
     "output_type": "stream",
     "text": [
      " 12%|█▏        | 4/33 [02:15<15:37, 32.32s/it]"
     ]
    },
    {
     "name": "stdout",
     "output_type": "stream",
     "text": [
      "Time: 5.730077028274536\n",
      "0.005905628204345703\n",
      "1 H-Adding task with 5829 atoms complete in 0.512 seconds.\n"
     ]
    },
    {
     "name": "stderr",
     "output_type": "stream",
     "text": [
      " 15%|█▌        | 5/33 [02:42<14:17, 30.62s/it]"
     ]
    },
    {
     "name": "stdout",
     "output_type": "stream",
     "text": [
      "Time: 6.995323896408081\n",
      "0.0036690235137939453\n",
      "1 H-Adding task with 4001 atoms complete in 0.329 seconds.\n"
     ]
    },
    {
     "name": "stderr",
     "output_type": "stream",
     "text": [
      " 18%|█▊        | 6/33 [03:13<13:50, 30.78s/it]"
     ]
    },
    {
     "name": "stdout",
     "output_type": "stream",
     "text": [
      "Time: 6.6852357387542725\n",
      "0.013802289962768555\n",
      "1 H-Adding task with 3294 atoms complete in 0.565 seconds.\n"
     ]
    },
    {
     "name": "stderr",
     "output_type": "stream",
     "text": [
      " 21%|██        | 7/33 [03:49<13:57, 32.23s/it]"
     ]
    },
    {
     "name": "stdout",
     "output_type": "stream",
     "text": [
      "Time: 5.404020309448242\n",
      "0.013350963592529297\n",
      "1 H-Adding task with 11526 atoms complete in 1.063 seconds.\n"
     ]
    },
    {
     "name": "stderr",
     "output_type": "stream",
     "text": [
      " 24%|██▍       | 8/33 [04:28<14:18, 34.35s/it]"
     ]
    },
    {
     "name": "stdout",
     "output_type": "stream",
     "text": [
      "Time: 12.184221744537354\n",
      "0.03220939636230469\n",
      "1 H-Adding task with 3183 atoms complete in 0.39 seconds.\n"
     ]
    },
    {
     "name": "stderr",
     "output_type": "stream",
     "text": [
      " 27%|██▋       | 9/33 [05:04<13:56, 34.87s/it]"
     ]
    },
    {
     "name": "stdout",
     "output_type": "stream",
     "text": [
      "Time: 6.128306150436401\n",
      "0.004315376281738281\n",
      "1 H-Adding task with 5021 atoms complete in 0.629 seconds.\n"
     ]
    },
    {
     "name": "stderr",
     "output_type": "stream",
     "text": [
      " 30%|███       | 10/33 [05:39<13:23, 34.94s/it]"
     ]
    },
    {
     "name": "stdout",
     "output_type": "stream",
     "text": [
      "Time: 6.54425835609436\n",
      "0.0041310787200927734\n",
      "1 H-Adding task with 9316 atoms complete in 0.992 seconds.\n"
     ]
    },
    {
     "name": "stderr",
     "output_type": "stream",
     "text": [
      " 33%|███▎      | 11/33 [06:14<12:48, 34.93s/it]"
     ]
    },
    {
     "name": "stdout",
     "output_type": "stream",
     "text": [
      "Time: 9.431101322174072\n",
      "0.022260665893554688\n",
      "1 H-Adding task with 7632 atoms complete in 0.821 seconds.\n"
     ]
    },
    {
     "name": "stderr",
     "output_type": "stream",
     "text": [
      " 36%|███▋      | 12/33 [06:47<12:03, 34.48s/it]"
     ]
    },
    {
     "name": "stdout",
     "output_type": "stream",
     "text": [
      "Time: 7.044881105422974\n",
      "0.02698516845703125\n",
      "1 H-Adding task with 3496 atoms complete in 0.498 seconds.\n"
     ]
    },
    {
     "name": "stderr",
     "output_type": "stream",
     "text": [
      " 39%|███▉      | 13/33 [07:20<11:18, 33.93s/it]"
     ]
    },
    {
     "name": "stdout",
     "output_type": "stream",
     "text": [
      "Time: 4.912547826766968\n",
      "0.012293815612792969\n",
      "1 H-Adding task with 3233 atoms complete in 0.507 seconds.\n"
     ]
    },
    {
     "name": "stderr",
     "output_type": "stream",
     "text": [
      " 42%|████▏     | 14/33 [07:49<10:17, 32.47s/it]"
     ]
    },
    {
     "name": "stdout",
     "output_type": "stream",
     "text": [
      "Time: 5.419897556304932\n",
      "0.0036156177520751953\n",
      "1 H-Adding task with 12163 atoms complete in 1.165 seconds.\n"
     ]
    },
    {
     "name": "stderr",
     "output_type": "stream",
     "text": [
      " 45%|████▌     | 15/33 [08:21<09:42, 32.37s/it]"
     ]
    },
    {
     "name": "stdout",
     "output_type": "stream",
     "text": [
      "Time: 8.65657901763916\n",
      "0.0036029815673828125\n",
      "1 H-Adding task with 5695 atoms complete in 0.27 seconds.\n"
     ]
    },
    {
     "name": "stderr",
     "output_type": "stream",
     "text": [
      " 48%|████▊     | 16/33 [08:50<08:54, 31.44s/it]"
     ]
    },
    {
     "name": "stdout",
     "output_type": "stream",
     "text": [
      "Time: 6.118680238723755\n",
      "0.019600391387939453\n",
      "1 H-Adding task with 8702 atoms complete in 0.812 seconds.\n"
     ]
    },
    {
     "name": "stderr",
     "output_type": "stream",
     "text": [
      " 52%|█████▏    | 17/33 [09:23<08:27, 31.74s/it]"
     ]
    },
    {
     "name": "stdout",
     "output_type": "stream",
     "text": [
      "Time: 9.906599521636963\n",
      "0.00359344482421875\n",
      "1 H-Adding task with 7920 atoms complete in 1.11 seconds.\n"
     ]
    },
    {
     "name": "stderr",
     "output_type": "stream",
     "text": [
      " 55%|█████▍    | 18/33 [09:55<07:57, 31.80s/it]"
     ]
    },
    {
     "name": "stdout",
     "output_type": "stream",
     "text": [
      "Time: 9.187662601470947\n",
      "0.00826573371887207\n",
      "1 H-Adding task with 3709 atoms complete in 0.412 seconds.\n"
     ]
    },
    {
     "name": "stderr",
     "output_type": "stream",
     "text": [
      " 58%|█████▊    | 19/33 [10:25<07:19, 31.36s/it]"
     ]
    },
    {
     "name": "stdout",
     "output_type": "stream",
     "text": [
      "Time: 5.220089673995972\n",
      "0.0037283897399902344\n",
      "1 H-Adding task with 10823 atoms complete in 0.748 seconds.\n"
     ]
    },
    {
     "name": "stderr",
     "output_type": "stream",
     "text": [
      " 61%|██████    | 20/33 [11:01<07:04, 32.69s/it]"
     ]
    },
    {
     "name": "stdout",
     "output_type": "stream",
     "text": [
      "Time: 12.321629762649536\n",
      "0.024544477462768555\n",
      "1 H-Adding task with 5759 atoms complete in 0.742 seconds.\n"
     ]
    },
    {
     "name": "stderr",
     "output_type": "stream",
     "text": [
      " 64%|██████▎   | 21/33 [11:35<06:39, 33.31s/it]"
     ]
    },
    {
     "name": "stdout",
     "output_type": "stream",
     "text": [
      "Time: 8.301543712615967\n",
      "0.006630420684814453\n",
      "1 H-Adding task with 6709 atoms complete in 1.61 seconds.\n"
     ]
    },
    {
     "name": "stderr",
     "output_type": "stream",
     "text": [
      " 67%|██████▋   | 22/33 [12:08<06:05, 33.23s/it]"
     ]
    },
    {
     "name": "stdout",
     "output_type": "stream",
     "text": [
      "Time: 7.861263751983643\n",
      "0.0130615234375\n",
      "1 H-Adding task with 6967 atoms complete in 0.869 seconds.\n"
     ]
    },
    {
     "name": "stderr",
     "output_type": "stream",
     "text": [
      " 70%|██████▉   | 23/33 [12:42<05:32, 33.23s/it]"
     ]
    },
    {
     "name": "stdout",
     "output_type": "stream",
     "text": [
      "Time: 9.022571802139282\n",
      "0.0038170814514160156\n",
      "1 H-Adding task with 3675 atoms complete in 0.855 seconds.\n"
     ]
    },
    {
     "name": "stderr",
     "output_type": "stream",
     "text": [
      " 73%|███████▎  | 24/33 [13:10<04:45, 31.74s/it]"
     ]
    },
    {
     "name": "stdout",
     "output_type": "stream",
     "text": [
      "Time: 6.724406719207764\n",
      "0.012982845306396484\n",
      "1 H-Adding task with 6625 atoms complete in 1.148 seconds.\n"
     ]
    },
    {
     "name": "stderr",
     "output_type": "stream",
     "text": [
      " 76%|███████▌  | 25/33 [13:40<04:10, 31.31s/it]"
     ]
    },
    {
     "name": "stdout",
     "output_type": "stream",
     "text": [
      "Time: 8.471432447433472\n",
      "0.012505292892456055\n",
      "1 H-Adding task with 6149 atoms complete in 0.687 seconds.\n"
     ]
    },
    {
     "name": "stderr",
     "output_type": "stream",
     "text": [
      " 79%|███████▉  | 26/33 [14:12<03:40, 31.45s/it]"
     ]
    },
    {
     "name": "stdout",
     "output_type": "stream",
     "text": [
      "Time: 6.788180589675903\n",
      "0.018687963485717773\n",
      "1 H-Adding task with 7706 atoms complete in 0.784 seconds.\n"
     ]
    },
    {
     "name": "stderr",
     "output_type": "stream",
     "text": [
      " 82%|████████▏ | 27/33 [14:42<03:05, 30.88s/it]"
     ]
    },
    {
     "name": "stdout",
     "output_type": "stream",
     "text": [
      "Time: 9.823264598846436\n",
      "0.013521432876586914\n",
      "1 H-Adding task with 2246 atoms complete in 0.219 seconds.\n"
     ]
    },
    {
     "name": "stderr",
     "output_type": "stream",
     "text": [
      " 85%|████████▍ | 28/33 [15:11<02:31, 30.34s/it]"
     ]
    },
    {
     "name": "stdout",
     "output_type": "stream",
     "text": [
      "Time: 4.777873992919922\n",
      "0.00973820686340332\n",
      "1 H-Adding task with 5923 atoms complete in 0.348 seconds.\n"
     ]
    },
    {
     "name": "stderr",
     "output_type": "stream",
     "text": [
      " 88%|████████▊ | 29/33 [15:43<02:03, 30.97s/it]"
     ]
    },
    {
     "name": "stdout",
     "output_type": "stream",
     "text": [
      "Time: 7.554027795791626\n",
      "0.005470752716064453\n",
      "1 H-Adding task with 7319 atoms complete in 0.702 seconds.\n"
     ]
    },
    {
     "name": "stderr",
     "output_type": "stream",
     "text": [
      " 91%|█████████ | 30/33 [16:16<01:35, 31.67s/it]"
     ]
    },
    {
     "name": "stdout",
     "output_type": "stream",
     "text": [
      "Time: 7.648815393447876\n",
      "0.005110263824462891\n",
      "1 H-Adding task with 5723 atoms complete in 0.551 seconds.\n"
     ]
    },
    {
     "name": "stderr",
     "output_type": "stream",
     "text": [
      " 94%|█████████▍| 31/33 [16:49<01:04, 32.09s/it]"
     ]
    },
    {
     "name": "stdout",
     "output_type": "stream",
     "text": [
      "Time: 7.4906346797943115\n",
      "0.018207311630249023\n",
      "1 H-Adding task with 10406 atoms complete in 1.603 seconds.\n"
     ]
    },
    {
     "name": "stderr",
     "output_type": "stream",
     "text": [
      " 97%|█████████▋| 32/33 [17:30<00:34, 34.60s/it]"
     ]
    },
    {
     "name": "stdout",
     "output_type": "stream",
     "text": [
      "Time: 11.217069625854492\n",
      "0.0179901123046875\n",
      "1 H-Adding task with 12151 atoms complete in 1.65 seconds.\n"
     ]
    },
    {
     "name": "stderr",
     "output_type": "stream",
     "text": [
      "100%|██████████| 33/33 [18:10<00:00, 33.05s/it]"
     ]
    },
    {
     "name": "stdout",
     "output_type": "stream",
     "text": [
      "Time: 12.24560809135437\n",
      "0.003678560256958008\n"
     ]
    },
    {
     "name": "stderr",
     "output_type": "stream",
     "text": [
      "\n"
     ]
    }
   ],
   "source": [
    "%set_env TOKENIZERS_PARALLELISM=false\n",
    "import os\n",
    "from tqdm import tqdm\n",
    "from predict import model_predict\n",
    "\n",
    "model = 'M3Site-ESM3-abs'\n",
    "pdb_file = '/data1/users/ouyangsong/GitHub/M3Site/case_study/A0A1H1XG33.pdb'\n",
    "function = 'Unknown'\n",
    "plm_path = '/data1/users/ouyangsong/codes/MMSite2/model_dir/esm3/esm3-sm-open-v1'\n",
    "blm_path = '/data1/users/ouyangsong/codes/MMSite2/model_dir/BiomedNLP-BiomedBERT-base-uncased-abstract'\n",
    "\n",
    "pdb_dir = '/data1/users/ouyangsong/GitHub/M3Site/case_study'\n",
    "pdb_files = os.listdir(pdb_dir)\n",
    "times = []\n",
    "for file in tqdm(pdb_files):\n",
    "    pdb_file = os.path.join(pdb_dir, file)\n",
    "    result = model_predict(model, pdb_file, function,\n",
    "                            plm_path,\n",
    "                            blm_path, \n",
    "                            device='cuda:1'\n",
    "                        )\n",
    "    print(result[-1])\n",
    "    times.append(result[-1])"
   ]
  },
  {
   "cell_type": "code",
   "execution_count": 4,
   "id": "76448f45",
   "metadata": {},
   "outputs": [
    {
     "data": {
      "text/plain": [
       "0.013517610954515862"
      ]
     },
     "execution_count": 4,
     "metadata": {},
     "output_type": "execute_result"
    }
   ],
   "source": [
    "sum(times)/33"
   ]
  },
  {
   "cell_type": "code",
   "execution_count": null,
   "id": "d60fc5b3",
   "metadata": {},
   "outputs": [],
   "source": []
  },
  {
   "cell_type": "code",
   "execution_count": null,
   "id": "98619170",
   "metadata": {},
   "outputs": [],
   "source": []
  },
  {
   "cell_type": "code",
   "execution_count": null,
   "metadata": {},
   "outputs": [],
   "source": []
  }
 ],
 "metadata": {
  "kernelspec": {
   "display_name": "m3site",
   "language": "python",
   "name": "python3"
  },
  "language_info": {
   "codemirror_mode": {
    "name": "ipython",
    "version": 3
   },
   "file_extension": ".py",
   "mimetype": "text/x-python",
   "name": "python",
   "nbconvert_exporter": "python",
   "pygments_lexer": "ipython3",
   "version": "3.11.11"
  }
 },
 "nbformat": 4,
 "nbformat_minor": 5
}
